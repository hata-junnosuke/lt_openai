{
  "nbformat": 4,
  "nbformat_minor": 0,
  "metadata": {
    "colab": {
      "provenance": [],
      "authorship_tag": "ABX9TyP/7N8aSjpiRJDCBNMqiqfU",
      "include_colab_link": true
    },
    "kernelspec": {
      "name": "python3",
      "display_name": "Python 3"
    },
    "language_info": {
      "name": "python"
    }
  },
  "cells": [
    {
      "cell_type": "markdown",
      "metadata": {
        "id": "view-in-github",
        "colab_type": "text"
      },
      "source": [
        "<a href=\"https://colab.research.google.com/github/hata-junnosuke/lt_openai/blob/main/AI_LT.ipynb\" target=\"_parent\"><img src=\"https://colab.research.google.com/assets/colab-badge.svg\" alt=\"Open In Colab\"/></a>"
      ]
    },
    {
      "cell_type": "markdown",
      "source": [
        "まずは事前準備をします。\n",
        "openaiのライブラリをインストールをします。"
      ],
      "metadata": {
        "id": "MrVU2keiRzpB"
      }
    },
    {
      "cell_type": "code",
      "execution_count": 1,
      "metadata": {
        "colab": {
          "base_uri": "https://localhost:8080/"
        },
        "id": "Iw1TK-aBNuPl",
        "outputId": "b3b67e96-93e6-4343-9480-8881243ff89e"
      },
      "outputs": [
        {
          "output_type": "stream",
          "name": "stdout",
          "text": [
            "Collecting openai\n",
            "  Downloading openai-1.16.2-py3-none-any.whl (267 kB)\n",
            "\u001b[2K     \u001b[90m━━━━━━━━━━━━━━━━━━━━━━━━━━━━━━━━━━━━━━━━\u001b[0m \u001b[32m267.1/267.1 kB\u001b[0m \u001b[31m2.7 MB/s\u001b[0m eta \u001b[36m0:00:00\u001b[0m\n",
            "\u001b[?25hRequirement already satisfied: anyio<5,>=3.5.0 in /usr/local/lib/python3.10/dist-packages (from openai) (3.7.1)\n",
            "Requirement already satisfied: distro<2,>=1.7.0 in /usr/lib/python3/dist-packages (from openai) (1.7.0)\n",
            "Collecting httpx<1,>=0.23.0 (from openai)\n",
            "  Downloading httpx-0.27.0-py3-none-any.whl (75 kB)\n",
            "\u001b[2K     \u001b[90m━━━━━━━━━━━━━━━━━━━━━━━━━━━━━━━━━━━━━━━━\u001b[0m \u001b[32m75.6/75.6 kB\u001b[0m \u001b[31m6.1 MB/s\u001b[0m eta \u001b[36m0:00:00\u001b[0m\n",
            "\u001b[?25hRequirement already satisfied: pydantic<3,>=1.9.0 in /usr/local/lib/python3.10/dist-packages (from openai) (2.6.4)\n",
            "Requirement already satisfied: sniffio in /usr/local/lib/python3.10/dist-packages (from openai) (1.3.1)\n",
            "Requirement already satisfied: tqdm>4 in /usr/local/lib/python3.10/dist-packages (from openai) (4.66.2)\n",
            "Requirement already satisfied: typing-extensions<5,>=4.7 in /usr/local/lib/python3.10/dist-packages (from openai) (4.10.0)\n",
            "Requirement already satisfied: idna>=2.8 in /usr/local/lib/python3.10/dist-packages (from anyio<5,>=3.5.0->openai) (3.6)\n",
            "Requirement already satisfied: exceptiongroup in /usr/local/lib/python3.10/dist-packages (from anyio<5,>=3.5.0->openai) (1.2.0)\n",
            "Requirement already satisfied: certifi in /usr/local/lib/python3.10/dist-packages (from httpx<1,>=0.23.0->openai) (2024.2.2)\n",
            "Collecting httpcore==1.* (from httpx<1,>=0.23.0->openai)\n",
            "  Downloading httpcore-1.0.5-py3-none-any.whl (77 kB)\n",
            "\u001b[2K     \u001b[90m━━━━━━━━━━━━━━━━━━━━━━━━━━━━━━━━━━━━━━━━\u001b[0m \u001b[32m77.9/77.9 kB\u001b[0m \u001b[31m6.4 MB/s\u001b[0m eta \u001b[36m0:00:00\u001b[0m\n",
            "\u001b[?25hCollecting h11<0.15,>=0.13 (from httpcore==1.*->httpx<1,>=0.23.0->openai)\n",
            "  Downloading h11-0.14.0-py3-none-any.whl (58 kB)\n",
            "\u001b[2K     \u001b[90m━━━━━━━━━━━━━━━━━━━━━━━━━━━━━━━━━━━━━━━━\u001b[0m \u001b[32m58.3/58.3 kB\u001b[0m \u001b[31m6.9 MB/s\u001b[0m eta \u001b[36m0:00:00\u001b[0m\n",
            "\u001b[?25hRequirement already satisfied: annotated-types>=0.4.0 in /usr/local/lib/python3.10/dist-packages (from pydantic<3,>=1.9.0->openai) (0.6.0)\n",
            "Requirement already satisfied: pydantic-core==2.16.3 in /usr/local/lib/python3.10/dist-packages (from pydantic<3,>=1.9.0->openai) (2.16.3)\n",
            "Installing collected packages: h11, httpcore, httpx, openai\n",
            "Successfully installed h11-0.14.0 httpcore-1.0.5 httpx-0.27.0 openai-1.16.2\n"
          ]
        }
      ],
      "source": [
        "!pip install openai"
      ]
    },
    {
      "cell_type": "markdown",
      "source": [
        "事前に設定したAPI_keyを変数clientに格納します。"
      ],
      "metadata": {
        "id": "QnjL860JSI9k"
      }
    },
    {
      "cell_type": "code",
      "source": [
        "from openai import OpenAI\n",
        "from google.colab import userdata\n",
        "\n",
        "client = OpenAI(\n",
        "    api_key = userdata.get(\"OPENAI_API_KEY\")\n",
        ")"
      ],
      "metadata": {
        "id": "MD9MdTn_RWkn"
      },
      "execution_count": 2,
      "outputs": []
    },
    {
      "cell_type": "markdown",
      "source": [
        "早速ですが、ChatBotを作成します。\n",
        "\n",
        "１回動作確認をしてから、コードの解説をしたいと思います。"
      ],
      "metadata": {
        "id": "SbLYcHwVVVEy"
      }
    },
    {
      "cell_type": "code",
      "source": [
        "# messagesの配列はAIとのやり取りの履歴を格納\n",
        "# AIの役割を指定\n",
        "messages = [{\"role\": \"system\", \"content\": \"あなたは役に立つアシスタントです。\"}]\n",
        "\n",
        "# 無限ループ\n",
        "while True:\n",
        "    # 人間の入力を待ち受け\n",
        "    prompt = input(\"YOU: \")\n",
        "\n",
        "    # 入力がexitならばプログラム終了\n",
        "    if prompt == \"exit\":\n",
        "        break\n",
        "\n",
        "    # ユーザーの入力を履歴に追加\n",
        "    messages.append( {\"role\": \"user\", \"content\": f\"{prompt}\"})\n",
        "\n",
        "    # modelを指定してやりとりを開始\n",
        "    response = client.chat.completions.create(\n",
        "        model=\"gpt-3.5-turbo\",\n",
        "        # model=\"gpt-4\"\n",
        "        messages=messages\n",
        "    )\n",
        "\n",
        "    # Botの回答を格納\n",
        "    bot_response = response.choices[0].message.content\n",
        "\n",
        "    # Botの回答を履歴に追加\n",
        "    messages.append({\"role\": \"assistant\", \"content\": bot_response})\n",
        "\n",
        "    # Botの回答を出力\n",
        "    print(f\"Bot: {bot_response}\")"
      ],
      "metadata": {
        "id": "lRedazsxfbsE"
      },
      "execution_count": null,
      "outputs": []
    },
    {
      "cell_type": "markdown",
      "source": [
        "# 解説\n"
      ],
      "metadata": {
        "id": "c9RMbXK4aiYl"
      }
    },
    {
      "cell_type": "markdown",
      "source": [
        "## model\n",
        "\n",
        "modelを選択します。ここでは言語モデルの\"gpt-3.5-turbo\"を指定しています。ここを\"GPT-4\"を指定すれば精度の高いやりとりをすることができるようになります。\n",
        "\n",
        "## messages\n",
        "\n",
        "次にmessagesでAIモデルに対する指示や質問、そしてその文脈を設定しています。\n",
        "\n",
        "messagesは辞書型であり、roleとcontentという2つのキーを持ちます。\n",
        "\n",
        "### role\n",
        "- systemは役割をAIに与える。\n",
        "- userは人間側を指す。\n",
        "- assistantはAI側を指す。"
      ],
      "metadata": {
        "id": "33d1kVAgjTSM"
      }
    },
    {
      "cell_type": "markdown",
      "source": [
        "## レスポンスの中身\n",
        "```\n",
        "ChatCompletion(id='chatcmpl-9BYj1QbNbpWu3JMnvNyCqISLw6Yxr',\n",
        "\n",
        "choices=\n",
        "\n",
        "  [Choice(finish_reason='stop', index=0, logprobs=None,\n",
        "  \n",
        "  message=ChatCompletionMessage(content='日本一高い山は標高3,776メートルの富士山です。',\n",
        "  \n",
        "  role='assistant', function_call=None, tool_calls=None))], created=1712542119, model='gpt-3.5-turbo-0125',\n",
        "  object='chat.completion', system_fingerprint='fp_b28b39ffa8', usage=CompletionUsage(completion_tokens=25, prompt_tokens=33, total_tokens=58))\n",
        "```\n",
        "**つまり、response.choices[0].message.contentを出力すればGPTの回答を出力できる！**"
      ],
      "metadata": {
        "id": "xfAZRluHmEk2"
      }
    },
    {
      "cell_type": "markdown",
      "source": [
        "# いじってみよう"
      ],
      "metadata": {
        "id": "I3GgxNyVnfoO"
      }
    },
    {
      "cell_type": "markdown",
      "source": [
        "## 履歴なし"
      ],
      "metadata": {
        "id": "BhxFVSuNny-H"
      }
    },
    {
      "cell_type": "code",
      "source": [
        "# 履歴なし\n",
        "while True:\n",
        "    prompt = input(\"You: \")\n",
        "    # print(f\"{prompt}\")\n",
        "    if prompt == \"exit\":\n",
        "        break\n",
        "\n",
        "    response = client.chat.completions.create(\n",
        "        model=\"gpt-3.5-turbo\",\n",
        "        # model=\"gpt-4\",\n",
        "        messages=[\n",
        "            {\"role\": \"system\", \"content\": \"あなたは役に立つアシスタントです。\"},\n",
        "            {\"role\": \"user\", \"content\": f\"{prompt}\"}\n",
        "        ]\n",
        "    )\n",
        "\n",
        "    print(f\"Bot: {response.choices[0].message.content}\")"
      ],
      "metadata": {
        "colab": {
          "base_uri": "https://localhost:8080/"
        },
        "id": "zJNqXJrGnQHe",
        "outputId": "5574aceb-ba9b-4bfa-f1d7-0f54501f5676"
      },
      "execution_count": 8,
      "outputs": [
        {
          "name": "stdout",
          "output_type": "stream",
          "text": [
            "You: 日本一高い山は\n",
            "Bot: 日本一高い山は標高3,776メートルの富士山です。\n",
            "You: ２番目は\n",
            "Bot: 申し訳ありませんが、ご質問が不明確なため、どのようなことについてお答えすればいいか分かりません。もう少し具体的に質問をしていただけますか？\n",
            "You: exit\n"
          ]
        }
      ]
    },
    {
      "cell_type": "markdown",
      "source": [
        "## systemで役割を変えてみよう"
      ],
      "metadata": {
        "id": "KBa0h09-n5_P"
      }
    },
    {
      "cell_type": "code",
      "source": [
        "# AIの役割を変更\n",
        "messages = [{\"role\": \"system\", \"content\": \"あなたは回答の語尾に知らんけどをつけます。\"}]\n",
        "\n",
        "while True:\n",
        "    prompt = input(\"YOU: \")\n",
        "\n",
        "    if prompt == \"exit\":\n",
        "        break\n",
        "\n",
        "    messages.append( {\"role\": \"user\", \"content\": f\"{prompt}\"})\n",
        "\n",
        "    response = client.chat.completions.create(\n",
        "        model=\"gpt-3.5-turbo\",\n",
        "        messages=messages\n",
        "    )\n",
        "\n",
        "    bot_response = response.choices[0].message.content\n",
        "\n",
        "    messages.append({\"role\": \"assistant\", \"content\": bot_response})\n",
        "\n",
        "    print(f\"Bot: {bot_response}\")"
      ],
      "metadata": {
        "colab": {
          "base_uri": "https://localhost:8080/"
        },
        "id": "W8XJu1VDn_uZ",
        "outputId": "df19d165-b3ca-45c8-dd06-e1589e6abeda"
      },
      "execution_count": 7,
      "outputs": [
        {
          "name": "stdout",
          "output_type": "stream",
          "text": [
            "YOU: 日本一高い山は\n",
            "Bot: 富士山ですね、知らんけど。\n",
            "YOU: exit\n"
          ]
        }
      ]
    }
  ]
}